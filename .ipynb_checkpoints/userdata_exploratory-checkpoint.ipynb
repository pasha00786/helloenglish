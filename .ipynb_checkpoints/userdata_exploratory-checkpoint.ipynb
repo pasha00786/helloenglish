{
 "cells": [
  {
   "cell_type": "code",
   "execution_count": 13,
   "metadata": {},
   "outputs": [],
   "source": [
    "import pandas as pd\n",
    "import numpy as np\n",
    "import matplotlib.pyplot as plt\n",
    "import seaborn as sns"
   ]
  },
  {
   "cell_type": "code",
   "execution_count": 2,
   "metadata": {},
   "outputs": [
    {
     "data": {
      "text/html": [
       "<div>\n",
       "<style scoped>\n",
       "    .dataframe tbody tr th:only-of-type {\n",
       "        vertical-align: middle;\n",
       "    }\n",
       "\n",
       "    .dataframe tbody tr th {\n",
       "        vertical-align: top;\n",
       "    }\n",
       "\n",
       "    .dataframe thead th {\n",
       "        text-align: right;\n",
       "    }\n",
       "</style>\n",
       "<table border=\"1\" class=\"dataframe\">\n",
       "  <thead>\n",
       "    <tr style=\"text-align: right;\">\n",
       "      <th></th>\n",
       "      <th>RECORD_ID</th>\n",
       "      <th>USER_ID</th>\n",
       "      <th>SLIDE_ID</th>\n",
       "      <th>ATTEMPT_NUMBER</th>\n",
       "      <th>IS_CORRECT</th>\n",
       "      <th>USER_RESPONSE</th>\n",
       "      <th>CREATED_AT</th>\n",
       "    </tr>\n",
       "  </thead>\n",
       "  <tbody>\n",
       "    <tr>\n",
       "      <th>0</th>\n",
       "      <td>107674045</td>\n",
       "      <td>kumar.ganesh199104@gmail.com</td>\n",
       "      <td>HIND2804673</td>\n",
       "      <td>1</td>\n",
       "      <td>1</td>\n",
       "      <td>My name is Pooja.</td>\n",
       "      <td>2018-06-01 00:00:01</td>\n",
       "    </tr>\n",
       "    <tr>\n",
       "      <th>1</th>\n",
       "      <td>108068364</td>\n",
       "      <td>sonamshrivastv6@gmail.com</td>\n",
       "      <td>HIND2839239</td>\n",
       "      <td>2</td>\n",
       "      <td>1</td>\n",
       "      <td>Hello! I am Pooja.</td>\n",
       "      <td>2018-06-01 00:00:01</td>\n",
       "    </tr>\n",
       "    <tr>\n",
       "      <th>2</th>\n",
       "      <td>107517978</td>\n",
       "      <td>sunitalal9634@gmail.com</td>\n",
       "      <td>HIND2893090</td>\n",
       "      <td>1</td>\n",
       "      <td>0</td>\n",
       "      <td>is</td>\n",
       "      <td>2018-06-01 00:00:01</td>\n",
       "    </tr>\n",
       "    <tr>\n",
       "      <th>3</th>\n",
       "      <td>107419929</td>\n",
       "      <td>harichandrathakur@gmail.com</td>\n",
       "      <td>HIND2958525</td>\n",
       "      <td>1</td>\n",
       "      <td>0</td>\n",
       "      <td>I amn't from India, I amn't Indian.</td>\n",
       "      <td>2018-06-01 00:00:01</td>\n",
       "    </tr>\n",
       "    <tr>\n",
       "      <th>4</th>\n",
       "      <td>108713359</td>\n",
       "      <td>archus103@gmail.com</td>\n",
       "      <td>HIND3307669</td>\n",
       "      <td>2</td>\n",
       "      <td>1</td>\n",
       "      <td>eight</td>\n",
       "      <td>2018-06-01 00:00:01</td>\n",
       "    </tr>\n",
       "  </tbody>\n",
       "</table>\n",
       "</div>"
      ],
      "text/plain": [
       "   RECORD_ID                       USER_ID     SLIDE_ID  ATTEMPT_NUMBER  \\\n",
       "0  107674045  kumar.ganesh199104@gmail.com  HIND2804673               1   \n",
       "1  108068364     sonamshrivastv6@gmail.com  HIND2839239               2   \n",
       "2  107517978       sunitalal9634@gmail.com  HIND2893090               1   \n",
       "3  107419929   harichandrathakur@gmail.com  HIND2958525               1   \n",
       "4  108713359           archus103@gmail.com  HIND3307669               2   \n",
       "\n",
       "   IS_CORRECT                        USER_RESPONSE           CREATED_AT  \n",
       "0           1                    My name is Pooja.  2018-06-01 00:00:01  \n",
       "1           1                   Hello! I am Pooja.  2018-06-01 00:00:01  \n",
       "2           0                                   is  2018-06-01 00:00:01  \n",
       "3           0  I amn't from India, I amn't Indian.  2018-06-01 00:00:01  \n",
       "4           1                                eight  2018-06-01 00:00:01  "
      ]
     },
     "execution_count": 2,
     "metadata": {},
     "output_type": "execute_result"
    }
   ],
   "source": [
    "data = pd.read_csv('lessonDiffDump.csv')\n",
    "data.head()"
   ]
  },
  {
   "cell_type": "code",
   "execution_count": 3,
   "metadata": {},
   "outputs": [
    {
     "data": {
      "text/plain": [
       "RECORD_ID         0\n",
       "USER_ID           0\n",
       "SLIDE_ID          0\n",
       "ATTEMPT_NUMBER    0\n",
       "IS_CORRECT        0\n",
       "USER_RESPONSE     0\n",
       "CREATED_AT        0\n",
       "dtype: int64"
      ]
     },
     "execution_count": 3,
     "metadata": {},
     "output_type": "execute_result"
    }
   ],
   "source": [
    "data.isnull().sum()"
   ]
  },
  {
   "cell_type": "code",
   "execution_count": 28,
   "metadata": {},
   "outputs": [
    {
     "data": {
      "image/png": "[encoded data removed]",
      "text/plain": [
       "<Figure size 432x288 with 1 Axes>"
      ]
     },
     "metadata": {},
     "output_type": "display_data"
    }
   ],
   "source": [
    "plt.hist(data['IS_CORRECT'])\n",
    "plt.xlabel('Correct(1) v/s Incorrect(0)')\n",
    "plt.ylabel('No. of Records')\n",
    "plt.show()"
   ]
  },
  {
   "cell_type": "code",
   "execution_count": 19,
   "metadata": {
    "collapsed": true
   },
   "outputs": [
    {
     "data": {
      "text/plain": [
       "1     34825\n",
       "2      9454\n",
       "3      3640\n",
       "4      1254\n",
       "5       347\n",
       "6       169\n",
       "7       103\n",
       "8        71\n",
       "9        43\n",
       "10       26\n",
       "11       19\n",
       "12       14\n",
       "13        7\n",
       "14        4\n",
       "15        3\n",
       "18        2\n",
       "17        2\n",
       "16        2\n",
       "19        2\n",
       "31        1\n",
       "30        1\n",
       "20        1\n",
       "21        1\n",
       "22        1\n",
       "23        1\n",
       "24        1\n",
       "25        1\n",
       "26        1\n",
       "27        1\n",
       "28        1\n",
       "29        1\n",
       "32        1\n",
       "Name: ATTEMPT_NUMBER, dtype: int64"
      ]
     },
     "execution_count": 19,
     "metadata": {},
     "output_type": "execute_result"
    }
   ],
   "source": [
    "data['ATTEMPT_NUMBER'].value_counts()"
   ]
  },
  {
   "cell_type": "code",
   "execution_count": 25,
   "metadata": {},
   "outputs": [],
   "source": [
    "data_refined = data[data['ATTEMPT_NUMBER'] < 5]"
   ]
  },
  {
   "cell_type": "code",
   "execution_count": 26,
   "metadata": {},
   "outputs": [
    {
     "data": {
      "image/png": "[encoded data removed]",
      "text/plain": [
       "<Figure size 864x216 with 4 Axes>"
      ]
     },
     "metadata": {},
     "output_type": "display_data"
    }
   ],
   "source": [
    "g = sns.FacetGrid(data_refined, col='ATTEMPT_NUMBER')\n",
    "g.map(plt.hist, \"IS_CORRECT\")\n",
    "plt.show()"
   ]
  },
  {
   "cell_type": "code",
   "execution_count": null,
   "metadata": {},
   "outputs": [],
   "source": []
  }
 ],
 "metadata": {
  "kernelspec": {
   "display_name": "Python 3",
   "language": "python",
   "name": "python3"
  },
  "language_info": {
   "codemirror_mode": {
    "name": "ipython",
    "version": 3
   },
   "file_extension": ".py",
   "mimetype": "text/x-python",
   "name": "python",
   "nbconvert_exporter": "python",
   "pygments_lexer": "ipython3",
   "version": "3.6.5"
  }
 },
 "nbformat": 4,
 "nbformat_minor": 2
}
