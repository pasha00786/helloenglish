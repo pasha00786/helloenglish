{
 "cells": [
  {
   "cell_type": "code",
   "execution_count": 26,
   "metadata": {},
   "outputs": [],
   "source": [
    "import pandas as pd\n",
    "import numpy as np\n",
    "import re"
   ]
  },
  {
   "cell_type": "code",
   "execution_count": 87,
   "metadata": {},
   "outputs": [
    {
     "data": {
      "text/html": [
       "<div>\n",
       "<style scoped>\n",
       "    .dataframe tbody tr th:only-of-type {\n",
       "        vertical-align: middle;\n",
       "    }\n",
       "\n",
       "    .dataframe tbody tr th {\n",
       "        vertical-align: top;\n",
       "    }\n",
       "\n",
       "    .dataframe thead th {\n",
       "        text-align: right;\n",
       "    }\n",
       "</style>\n",
       "<table border=\"1\" class=\"dataframe\">\n",
       "  <thead>\n",
       "    <tr style=\"text-align: right;\">\n",
       "      <th></th>\n",
       "      <th>Slide ID</th>\n",
       "      <th>Options</th>\n",
       "      <th>Correct ID</th>\n",
       "      <th>pos_array</th>\n",
       "    </tr>\n",
       "  </thead>\n",
       "  <tbody>\n",
       "    <tr>\n",
       "      <th>0</th>\n",
       "      <td>HIND4700548</td>\n",
       "      <td>How much are those shoes in the window over th...</td>\n",
       "      <td>1</td>\n",
       "      <td>[('How', 'WRB'), ('much', 'JJ'), ('are', 'VBP'...</td>\n",
       "    </tr>\n",
       "    <tr>\n",
       "      <th>1</th>\n",
       "      <td>HIND4700548</td>\n",
       "      <td>How much are these shoes in the window over th...</td>\n",
       "      <td>1</td>\n",
       "      <td>[('How', 'WRB'), ('much', 'JJ'), ('are', 'VBP'...</td>\n",
       "    </tr>\n",
       "    <tr>\n",
       "      <th>2</th>\n",
       "      <td>HIND4700548</td>\n",
       "      <td>How much are that shoes in the window over there?</td>\n",
       "      <td>1</td>\n",
       "      <td>[('How', 'WRB'), ('much', 'JJ'), ('are', 'VBP'...</td>\n",
       "    </tr>\n",
       "    <tr>\n",
       "      <th>3</th>\n",
       "      <td>HIND4700548</td>\n",
       "      <td>How much are this shoes in the window over there?</td>\n",
       "      <td>1</td>\n",
       "      <td>[('How', 'WRB'), ('much', 'JJ'), ('are', 'VBP'...</td>\n",
       "    </tr>\n",
       "    <tr>\n",
       "      <th>4</th>\n",
       "      <td>HIND4060599</td>\n",
       "      <td>My brown skirt fit me well.</td>\n",
       "      <td>2</td>\n",
       "      <td>[('My', 'PRP$'), ('brown', 'JJ'), ('skirt', 'N...</td>\n",
       "    </tr>\n",
       "  </tbody>\n",
       "</table>\n",
       "</div>"
      ],
      "text/plain": [
       "      Slide ID                                            Options  Correct ID  \\\n",
       "0  HIND4700548  How much are those shoes in the window over th...           1   \n",
       "1  HIND4700548  How much are these shoes in the window over th...           1   \n",
       "2  HIND4700548  How much are that shoes in the window over there?           1   \n",
       "3  HIND4700548  How much are this shoes in the window over there?           1   \n",
       "4  HIND4060599                        My brown skirt fit me well.           2   \n",
       "\n",
       "                                           pos_array  \n",
       "0  [('How', 'WRB'), ('much', 'JJ'), ('are', 'VBP'...  \n",
       "1  [('How', 'WRB'), ('much', 'JJ'), ('are', 'VBP'...  \n",
       "2  [('How', 'WRB'), ('much', 'JJ'), ('are', 'VBP'...  \n",
       "3  [('How', 'WRB'), ('much', 'JJ'), ('are', 'VBP'...  \n",
       "4  [('My', 'PRP$'), ('brown', 'JJ'), ('skirt', 'N...  "
      ]
     },
     "execution_count": 87,
     "metadata": {},
     "output_type": "execute_result"
    }
   ],
   "source": [
    "df = pd.read_csv('pos_tagged_data.csv')\n",
    "df.head()"
   ]
  },
  {
   "cell_type": "code",
   "execution_count": 4,
   "metadata": {},
   "outputs": [],
   "source": [
    "pos_array = list(df['pos_array'])"
   ]
  },
  {
   "cell_type": "code",
   "execution_count": 23,
   "metadata": {},
   "outputs": [
    {
     "data": {
      "text/plain": [
       "\"[('How', 'WRB'), ('much', 'JJ'), ('are', 'VBP'), ('those', 'DT'), ('shoes', 'NNS'), ('in', 'IN'), ('the', 'DT'), ('window', 'NN'), ('over', 'IN'), ('there', 'RB'), ('?', '.')]\""
      ]
     },
     "execution_count": 23,
     "metadata": {},
     "output_type": "execute_result"
    }
   ],
   "source": [
    "pos_array[0]"
   ]
  },
  {
   "cell_type": "code",
   "execution_count": 31,
   "metadata": {},
   "outputs": [],
   "source": [
    "def tokentolist(token):\n",
    "    pos = re.findall('\\(.*?\\)',token)\n",
    "    return pos"
   ]
  },
  {
   "cell_type": "code",
   "execution_count": 88,
   "metadata": {},
   "outputs": [],
   "source": [
    "df['pos_array'] = df['pos_array'].apply(tokentolist)"
   ]
  },
  {
   "cell_type": "code",
   "execution_count": 89,
   "metadata": {},
   "outputs": [],
   "source": [
    "df['pos_delta'] = df['Slide ID']"
   ]
  },
  {
   "cell_type": "code",
   "execution_count": 90,
   "metadata": {},
   "outputs": [
    {
     "data": {
      "text/html": [
       "<div>\n",
       "<style scoped>\n",
       "    .dataframe tbody tr th:only-of-type {\n",
       "        vertical-align: middle;\n",
       "    }\n",
       "\n",
       "    .dataframe tbody tr th {\n",
       "        vertical-align: top;\n",
       "    }\n",
       "\n",
       "    .dataframe thead th {\n",
       "        text-align: right;\n",
       "    }\n",
       "</style>\n",
       "<table border=\"1\" class=\"dataframe\">\n",
       "  <thead>\n",
       "    <tr style=\"text-align: right;\">\n",
       "      <th></th>\n",
       "      <th>Slide ID</th>\n",
       "      <th>Options</th>\n",
       "      <th>Correct ID</th>\n",
       "      <th>pos_array</th>\n",
       "      <th>pos_delta</th>\n",
       "    </tr>\n",
       "  </thead>\n",
       "  <tbody>\n",
       "    <tr>\n",
       "      <th>0</th>\n",
       "      <td>HIND4700548</td>\n",
       "      <td>How much are those shoes in the window over th...</td>\n",
       "      <td>1</td>\n",
       "      <td>[('How', 'WRB'), ('much', 'JJ'), ('are', 'VBP'...</td>\n",
       "      <td>HIND4700548</td>\n",
       "    </tr>\n",
       "    <tr>\n",
       "      <th>1</th>\n",
       "      <td>HIND4700548</td>\n",
       "      <td>How much are these shoes in the window over th...</td>\n",
       "      <td>1</td>\n",
       "      <td>[('How', 'WRB'), ('much', 'JJ'), ('are', 'VBP'...</td>\n",
       "      <td>HIND4700548</td>\n",
       "    </tr>\n",
       "    <tr>\n",
       "      <th>2</th>\n",
       "      <td>HIND4700548</td>\n",
       "      <td>How much are that shoes in the window over there?</td>\n",
       "      <td>1</td>\n",
       "      <td>[('How', 'WRB'), ('much', 'JJ'), ('are', 'VBP'...</td>\n",
       "      <td>HIND4700548</td>\n",
       "    </tr>\n",
       "    <tr>\n",
       "      <th>3</th>\n",
       "      <td>HIND4700548</td>\n",
       "      <td>How much are this shoes in the window over there?</td>\n",
       "      <td>1</td>\n",
       "      <td>[('How', 'WRB'), ('much', 'JJ'), ('are', 'VBP'...</td>\n",
       "      <td>HIND4700548</td>\n",
       "    </tr>\n",
       "    <tr>\n",
       "      <th>4</th>\n",
       "      <td>HIND4060599</td>\n",
       "      <td>My brown skirt fit me well.</td>\n",
       "      <td>2</td>\n",
       "      <td>[('My', 'PRP$'), ('brown', 'JJ'), ('skirt', 'N...</td>\n",
       "      <td>HIND4060599</td>\n",
       "    </tr>\n",
       "  </tbody>\n",
       "</table>\n",
       "</div>"
      ],
      "text/plain": [
       "      Slide ID                                            Options  Correct ID  \\\n",
       "0  HIND4700548  How much are those shoes in the window over th...           1   \n",
       "1  HIND4700548  How much are these shoes in the window over th...           1   \n",
       "2  HIND4700548  How much are that shoes in the window over there?           1   \n",
       "3  HIND4700548  How much are this shoes in the window over there?           1   \n",
       "4  HIND4060599                        My brown skirt fit me well.           2   \n",
       "\n",
       "                                           pos_array    pos_delta  \n",
       "0  [('How', 'WRB'), ('much', 'JJ'), ('are', 'VBP'...  HIND4700548  \n",
       "1  [('How', 'WRB'), ('much', 'JJ'), ('are', 'VBP'...  HIND4700548  \n",
       "2  [('How', 'WRB'), ('much', 'JJ'), ('are', 'VBP'...  HIND4700548  \n",
       "3  [('How', 'WRB'), ('much', 'JJ'), ('are', 'VBP'...  HIND4700548  \n",
       "4  [('My', 'PRP$'), ('brown', 'JJ'), ('skirt', 'N...  HIND4060599  "
      ]
     },
     "execution_count": 90,
     "metadata": {},
     "output_type": "execute_result"
    }
   ],
   "source": [
    "df.head()"
   ]
  },
  {
   "cell_type": "code",
   "execution_count": 35,
   "metadata": {},
   "outputs": [],
   "source": [
    "pos_array = list(df['pos_array'])"
   ]
  },
  {
   "cell_type": "code",
   "execution_count": 75,
   "metadata": {},
   "outputs": [],
   "source": [
    "def delta(option, base):\n",
    "    return list(set(option)-set(base))"
   ]
  },
  {
   "cell_type": "code",
   "execution_count": 93,
   "metadata": {},
   "outputs": [
    {
     "name": "stderr",
     "output_type": "stream",
     "text": [
      "/home/ashutosh/anaconda3/lib/python3.6/site-packages/pandas/core/indexing.py:189: SettingWithCopyWarning: \n",
      "A value is trying to be set on a copy of a slice from a DataFrame\n",
      "\n",
      "See the caveats in the documentation: http://pandas.pydata.org/pandas-docs/stable/indexing.html#indexing-view-versus-copy\n",
      "  self._setitem_with_indexer(indexer, value)\n"
     ]
    }
   ],
   "source": [
    "for i in range(int(df.shape[0]/4)):\n",
    "    n = 4*i\n",
    "    data = df.iloc[n : n + 4]\n",
    "    correct_index = int(data['Correct ID'].iloc[0])-1\n",
    "    base = data['pos_array'].iloc[correct_index]\n",
    "    for j in range(4):\n",
    "        df['pos_delta'].iloc[n + j] = delta(data['pos_array'].iloc[j], base)"
   ]
  },
  {
   "cell_type": "code",
   "execution_count": 97,
   "metadata": {},
   "outputs": [],
   "source": [
    "df.to_csv('pos_delta.csv')"
   ]
  },
  {
   "cell_type": "code",
   "execution_count": null,
   "metadata": {},
   "outputs": [],
   "source": []
  },
  {
   "cell_type": "code",
   "execution_count": null,
   "metadata": {},
   "outputs": [],
   "source": []
  }
 ],
 "metadata": {
  "kernelspec": {
   "display_name": "Python 3",
   "language": "python",
   "name": "python3"
  },
  "language_info": {
   "codemirror_mode": {
    "name": "ipython",
    "version": 3
   },
   "file_extension": ".py",
   "mimetype": "text/x-python",
   "name": "python",
   "nbconvert_exporter": "python",
   "pygments_lexer": "ipython3",
   "version": "3.6.5"
  }
 },
 "nbformat": 4,
 "nbformat_minor": 2
}
