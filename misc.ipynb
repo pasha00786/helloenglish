{
 "cells": [
  {
   "cell_type": "code",
   "execution_count": 1,
   "metadata": {},
   "outputs": [],
   "source": [
    "import pandas as pd\n",
    "import numpy as np"
   ]
  },
  {
   "cell_type": "code",
   "execution_count": 29,
   "metadata": {},
   "outputs": [
    {
     "data": {
      "text/html": [
       "<div>\n",
       "<style scoped>\n",
       "    .dataframe tbody tr th:only-of-type {\n",
       "        vertical-align: middle;\n",
       "    }\n",
       "\n",
       "    .dataframe tbody tr th {\n",
       "        vertical-align: top;\n",
       "    }\n",
       "\n",
       "    .dataframe thead th {\n",
       "        text-align: right;\n",
       "    }\n",
       "</style>\n",
       "<table border=\"1\" class=\"dataframe\">\n",
       "  <thead>\n",
       "    <tr style=\"text-align: right;\">\n",
       "      <th></th>\n",
       "      <th>Unnamed: 0</th>\n",
       "      <th>Unnamed: 1</th>\n",
       "      <th>Unnamed: 2</th>\n",
       "      <th>Unnamed: 3</th>\n",
       "      <th>Unnamed: 4</th>\n",
       "      <th>Grammarly</th>\n",
       "      <th>Unnamed: 6</th>\n",
       "      <th>Unnamed: 7</th>\n",
       "      <th>Crio</th>\n",
       "      <th>Unnamed: 9</th>\n",
       "      <th>...</th>\n",
       "      <th>Unnamed: 21</th>\n",
       "      <th>Unnamed: 22</th>\n",
       "      <th>Unnamed: 23</th>\n",
       "      <th>Unnamed: 24</th>\n",
       "      <th>Unnamed: 25</th>\n",
       "      <th>Unnamed: 26</th>\n",
       "      <th>Unnamed: 27</th>\n",
       "      <th>Unnamed: 28</th>\n",
       "      <th>Unnamed: 29</th>\n",
       "      <th>Unnamed: 30</th>\n",
       "    </tr>\n",
       "  </thead>\n",
       "  <tbody>\n",
       "    <tr>\n",
       "      <th>0</th>\n",
       "      <td>Slide Id</td>\n",
       "      <td>Options</td>\n",
       "      <td>Correct</td>\n",
       "      <td>Slide Type</td>\n",
       "      <td>slug</td>\n",
       "      <td>Error</td>\n",
       "      <td>Corrected</td>\n",
       "      <td>NaN</td>\n",
       "      <td>Error</td>\n",
       "      <td>Corrected</td>\n",
       "      <td>...</td>\n",
       "      <td>NaN</td>\n",
       "      <td>NaN</td>\n",
       "      <td>NaN</td>\n",
       "      <td>NaN</td>\n",
       "      <td>NaN</td>\n",
       "      <td>NaN</td>\n",
       "      <td>NaN</td>\n",
       "      <td>NaN</td>\n",
       "      <td>NaN</td>\n",
       "      <td>NaN</td>\n",
       "    </tr>\n",
       "    <tr>\n",
       "      <th>1</th>\n",
       "      <td>HIND2055067</td>\n",
       "      <td>- Japanese language is difficult to learn.</td>\n",
       "      <td>3</td>\n",
       "      <td>Missing Word</td>\n",
       "      <td>- japanese language is difficult to learn.</td>\n",
       "      <td>No error found</td>\n",
       "      <td>NaN</td>\n",
       "      <td>NaN</td>\n",
       "      <td>NaN</td>\n",
       "      <td>missing</td>\n",
       "      <td>...</td>\n",
       "      <td>NaN</td>\n",
       "      <td>NaN</td>\n",
       "      <td>NaN</td>\n",
       "      <td>NaN</td>\n",
       "      <td>NaN</td>\n",
       "      <td>NaN</td>\n",
       "      <td>NaN</td>\n",
       "      <td>NaN</td>\n",
       "      <td>NaN</td>\n",
       "      <td>Missing Word</td>\n",
       "    </tr>\n",
       "    <tr>\n",
       "      <th>2</th>\n",
       "      <td>HIND2055035</td>\n",
       "      <td>- Smiths often eat in that expensive restauran...</td>\n",
       "      <td>2</td>\n",
       "      <td>Missing Word</td>\n",
       "      <td>- smiths often eat in that expensive restauran...</td>\n",
       "      <td>No error found</td>\n",
       "      <td>NaN</td>\n",
       "      <td>NaN</td>\n",
       "      <td>NaN</td>\n",
       "      <td>missing</td>\n",
       "      <td>...</td>\n",
       "      <td>NaN</td>\n",
       "      <td>NaN</td>\n",
       "      <td>NaN</td>\n",
       "      <td>NaN</td>\n",
       "      <td>NaN</td>\n",
       "      <td>NaN</td>\n",
       "      <td>NaN</td>\n",
       "      <td>NaN</td>\n",
       "      <td>NaN</td>\n",
       "      <td>NaN</td>\n",
       "    </tr>\n",
       "    <tr>\n",
       "      <th>3</th>\n",
       "      <td>HIND1473312086087</td>\n",
       "      <td>\"Do that that you are able\" is a motto that ha...</td>\n",
       "      <td>3</td>\n",
       "      <td>Missing Word</td>\n",
       "      <td>do that that you are able is a motto that has ...</td>\n",
       "      <td>No error found</td>\n",
       "      <td>NaN</td>\n",
       "      <td>NaN</td>\n",
       "      <td>NaN</td>\n",
       "      <td>missing</td>\n",
       "      <td>...</td>\n",
       "      <td>NaN</td>\n",
       "      <td>NaN</td>\n",
       "      <td>NaN</td>\n",
       "      <td>NaN</td>\n",
       "      <td>NaN</td>\n",
       "      <td>NaN</td>\n",
       "      <td>NaN</td>\n",
       "      <td>NaN</td>\n",
       "      <td>NaN</td>\n",
       "      <td>NaN</td>\n",
       "    </tr>\n",
       "    <tr>\n",
       "      <th>4</th>\n",
       "      <td>HIND1473312086087</td>\n",
       "      <td>\"Do that what you are able\" is a motto that ha...</td>\n",
       "      <td>3</td>\n",
       "      <td>Missing Word</td>\n",
       "      <td>do that what you are able is a motto that has ...</td>\n",
       "      <td>No error found</td>\n",
       "      <td>NaN</td>\n",
       "      <td>NaN</td>\n",
       "      <td>NaN</td>\n",
       "      <td>missing</td>\n",
       "      <td>...</td>\n",
       "      <td>NaN</td>\n",
       "      <td>NaN</td>\n",
       "      <td>NaN</td>\n",
       "      <td>NaN</td>\n",
       "      <td>NaN</td>\n",
       "      <td>NaN</td>\n",
       "      <td>NaN</td>\n",
       "      <td>NaN</td>\n",
       "      <td>NaN</td>\n",
       "      <td>NaN</td>\n",
       "    </tr>\n",
       "  </tbody>\n",
       "</table>\n",
       "<p>5 rows × 31 columns</p>\n",
       "</div>"
      ],
      "text/plain": [
       "          Unnamed: 0                                         Unnamed: 1  \\\n",
       "0           Slide Id                                            Options   \n",
       "1        HIND2055067         - Japanese language is difficult to learn.   \n",
       "2        HIND2055035  - Smiths often eat in that expensive restauran...   \n",
       "3  HIND1473312086087  \"Do that that you are able\" is a motto that ha...   \n",
       "4  HIND1473312086087  \"Do that what you are able\" is a motto that ha...   \n",
       "\n",
       "  Unnamed: 2    Unnamed: 3                                         Unnamed: 4  \\\n",
       "0    Correct    Slide Type                                               slug   \n",
       "1          3  Missing Word         - japanese language is difficult to learn.   \n",
       "2          2  Missing Word  - smiths often eat in that expensive restauran...   \n",
       "3          3  Missing Word  do that that you are able is a motto that has ...   \n",
       "4          3  Missing Word  do that what you are able is a motto that has ...   \n",
       "\n",
       "        Grammarly Unnamed: 6  Unnamed: 7   Crio Unnamed: 9      ...       \\\n",
       "0           Error  Corrected         NaN  Error  Corrected      ...        \n",
       "1  No error found        NaN         NaN    NaN    missing      ...        \n",
       "2  No error found        NaN         NaN    NaN    missing      ...        \n",
       "3  No error found        NaN         NaN    NaN    missing      ...        \n",
       "4  No error found        NaN         NaN    NaN    missing      ...        \n",
       "\n",
       "   Unnamed: 21 Unnamed: 22 Unnamed: 23  Unnamed: 24 Unnamed: 25  Unnamed: 26  \\\n",
       "0          NaN         NaN         NaN          NaN         NaN          NaN   \n",
       "1          NaN         NaN         NaN          NaN         NaN          NaN   \n",
       "2          NaN         NaN         NaN          NaN         NaN          NaN   \n",
       "3          NaN         NaN         NaN          NaN         NaN          NaN   \n",
       "4          NaN         NaN         NaN          NaN         NaN          NaN   \n",
       "\n",
       "   Unnamed: 27  Unnamed: 28  Unnamed: 29   Unnamed: 30  \n",
       "0          NaN          NaN          NaN           NaN  \n",
       "1          NaN          NaN          NaN  Missing Word  \n",
       "2          NaN          NaN          NaN           NaN  \n",
       "3          NaN          NaN          NaN           NaN  \n",
       "4          NaN          NaN          NaN           NaN  \n",
       "\n",
       "[5 rows x 31 columns]"
      ]
     },
     "execution_count": 29,
     "metadata": {},
     "output_type": "execute_result"
    }
   ],
   "source": [
    "data = pd.read_csv('misc.csv')\n",
    "data.head()"
   ]
  },
  {
   "cell_type": "code",
   "execution_count": 31,
   "metadata": {},
   "outputs": [],
   "source": [
    "buffer = data[data['Grammarly'] == 'missing']['Unnamed: 1']"
   ]
  },
  {
   "cell_type": "code",
   "execution_count": 32,
   "metadata": {},
   "outputs": [
    {
     "data": {
      "text/plain": [
       "pandas.core.series.Series"
      ]
     },
     "execution_count": 32,
     "metadata": {},
     "output_type": "execute_result"
    }
   ],
   "source": [
    "type(buffer)"
   ]
  },
  {
   "cell_type": "code",
   "execution_count": 33,
   "metadata": {},
   "outputs": [],
   "source": [
    "buffer.to_csv('buffer.csv')"
   ]
  },
  {
   "cell_type": "code",
   "execution_count": 35,
   "metadata": {},
   "outputs": [
    {
     "data": {
      "text/html": [
       "<div>\n",
       "<style scoped>\n",
       "    .dataframe tbody tr th:only-of-type {\n",
       "        vertical-align: middle;\n",
       "    }\n",
       "\n",
       "    .dataframe tbody tr th {\n",
       "        vertical-align: top;\n",
       "    }\n",
       "\n",
       "    .dataframe thead th {\n",
       "        text-align: right;\n",
       "    }\n",
       "</style>\n",
       "<table border=\"1\" class=\"dataframe\">\n",
       "  <thead>\n",
       "    <tr style=\"text-align: right;\">\n",
       "      <th></th>\n",
       "      <th>Sno</th>\n",
       "      <th>Data</th>\n",
       "    </tr>\n",
       "  </thead>\n",
       "  <tbody>\n",
       "    <tr>\n",
       "      <th>0</th>\n",
       "      <td>21</td>\n",
       "      <td>Rachel and I works at a school.</td>\n",
       "    </tr>\n",
       "    <tr>\n",
       "      <th>1</th>\n",
       "      <td>75</td>\n",
       "      <td>8764031748 aren't my number.</td>\n",
       "    </tr>\n",
       "    <tr>\n",
       "      <th>2</th>\n",
       "      <td>76</td>\n",
       "      <td>8764031748 doesn't my number.</td>\n",
       "    </tr>\n",
       "    <tr>\n",
       "      <th>3</th>\n",
       "      <td>77</td>\n",
       "      <td>8764031748 is don't my number.</td>\n",
       "    </tr>\n",
       "    <tr>\n",
       "      <th>4</th>\n",
       "      <td>78</td>\n",
       "      <td>8764031748 isn't my number.</td>\n",
       "    </tr>\n",
       "  </tbody>\n",
       "</table>\n",
       "</div>"
      ],
      "text/plain": [
       "   Sno                             Data\n",
       "0   21  Rachel and I works at a school.\n",
       "1   75     8764031748 aren't my number.\n",
       "2   76    8764031748 doesn't my number.\n",
       "3   77   8764031748 is don't my number.\n",
       "4   78      8764031748 isn't my number."
      ]
     },
     "execution_count": 35,
     "metadata": {},
     "output_type": "execute_result"
    }
   ],
   "source": [
    "data1 = pd.read_csv('buffer.csv')\n",
    "data1.head(5)"
   ]
  },
  {
   "cell_type": "code",
   "execution_count": 36,
   "metadata": {},
   "outputs": [
    {
     "data": {
      "text/plain": [
       "0    Rachel and I works at a school.\n",
       "1       8764031748 aren't my number.\n",
       "2      8764031748 doesn't my number.\n",
       "3     8764031748 is don't my number.\n",
       "4        8764031748 isn't my number.\n",
       "Name: Data, dtype: object"
      ]
     },
     "execution_count": 36,
     "metadata": {},
     "output_type": "execute_result"
    }
   ],
   "source": [
    "data1 = data1['Data']\n",
    "data1.head(5)"
   ]
  },
  {
   "cell_type": "code",
   "execution_count": 38,
   "metadata": {},
   "outputs": [],
   "source": [
    "data1.to_excel('buffer.xlsx')"
   ]
  },
  {
   "cell_type": "code",
   "execution_count": null,
   "metadata": {},
   "outputs": [],
   "source": []
  }
 ],
 "metadata": {
  "kernelspec": {
   "display_name": "Python 3",
   "language": "python",
   "name": "python3"
  },
  "language_info": {
   "codemirror_mode": {
    "name": "ipython",
    "version": 3
   },
   "file_extension": ".py",
   "mimetype": "text/x-python",
   "name": "python",
   "nbconvert_exporter": "python",
   "pygments_lexer": "ipython3",
   "version": "3.6.5"
  }
 },
 "nbformat": 4,
 "nbformat_minor": 2
}
