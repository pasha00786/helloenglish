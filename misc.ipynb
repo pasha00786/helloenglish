{
 "cells": [
  {
   "cell_type": "code",
   "execution_count": 1,
   "metadata": {},
   "outputs": [],
   "source": [
    "import pandas as pd\n",
    "import numpy as np"
   ]
  },
  {
   "cell_type": "code",
   "execution_count": 32,
   "metadata": {},
   "outputs": [
    {
     "data": {
      "text/html": [
       "<div>\n",
       "<style scoped>\n",
       "    .dataframe tbody tr th:only-of-type {\n",
       "        vertical-align: middle;\n",
       "    }\n",
       "\n",
       "    .dataframe tbody tr th {\n",
       "        vertical-align: top;\n",
       "    }\n",
       "\n",
       "    .dataframe thead th {\n",
       "        text-align: right;\n",
       "    }\n",
       "</style>\n",
       "<table border=\"1\" class=\"dataframe\">\n",
       "  <thead>\n",
       "    <tr style=\"text-align: right;\">\n",
       "      <th></th>\n",
       "      <th>Slide ID</th>\n",
       "      <th>Options</th>\n",
       "      <th>Correct ID</th>\n",
       "    </tr>\n",
       "  </thead>\n",
       "  <tbody>\n",
       "    <tr>\n",
       "      <th>0</th>\n",
       "      <td>HIND4700548</td>\n",
       "      <td>How much are those shoes in the window over th...</td>\n",
       "      <td>1.0</td>\n",
       "    </tr>\n",
       "    <tr>\n",
       "      <th>1</th>\n",
       "      <td>HIND4700548</td>\n",
       "      <td>How much are these shoes in the window over th...</td>\n",
       "      <td>1.0</td>\n",
       "    </tr>\n",
       "    <tr>\n",
       "      <th>2</th>\n",
       "      <td>HIND4700548</td>\n",
       "      <td>How much are that shoes in the window over there?</td>\n",
       "      <td>1.0</td>\n",
       "    </tr>\n",
       "    <tr>\n",
       "      <th>3</th>\n",
       "      <td>HIND4700548</td>\n",
       "      <td>How much are this shoes in the window over there?</td>\n",
       "      <td>1.0</td>\n",
       "    </tr>\n",
       "    <tr>\n",
       "      <th>4</th>\n",
       "      <td>HIND4060599</td>\n",
       "      <td>My brown skirt fit me well.</td>\n",
       "      <td>2.0</td>\n",
       "    </tr>\n",
       "    <tr>\n",
       "      <th>5</th>\n",
       "      <td>HIND4060599</td>\n",
       "      <td>My brown skirt fits me well.</td>\n",
       "      <td>2.0</td>\n",
       "    </tr>\n",
       "    <tr>\n",
       "      <th>6</th>\n",
       "      <td>HIND4060599</td>\n",
       "      <td>My brown skirt is fit me well.</td>\n",
       "      <td>2.0</td>\n",
       "    </tr>\n",
       "    <tr>\n",
       "      <th>7</th>\n",
       "      <td>HIND4060599</td>\n",
       "      <td>My brown skirt is fits me well.</td>\n",
       "      <td>2.0</td>\n",
       "    </tr>\n",
       "  </tbody>\n",
       "</table>\n",
       "</div>"
      ],
      "text/plain": [
       "      Slide ID                                            Options  Correct ID\n",
       "0  HIND4700548  How much are those shoes in the window over th...         1.0\n",
       "1  HIND4700548  How much are these shoes in the window over th...         1.0\n",
       "2  HIND4700548  How much are that shoes in the window over there?         1.0\n",
       "3  HIND4700548  How much are this shoes in the window over there?         1.0\n",
       "4  HIND4060599                        My brown skirt fit me well.         2.0\n",
       "5  HIND4060599                       My brown skirt fits me well.         2.0\n",
       "6  HIND4060599                     My brown skirt is fit me well.         2.0\n",
       "7  HIND4060599                    My brown skirt is fits me well.         2.0"
      ]
     },
     "execution_count": 32,
     "metadata": {},
     "output_type": "execute_result"
    }
   ],
   "source": [
    "data = pd.read_csv('entire_data.csv')\n",
    "data = data[['Slide ID','Options','Correct ID']]\n",
    "data.head(8)"
   ]
  },
  {
   "cell_type": "code",
   "execution_count": 33,
   "metadata": {},
   "outputs": [],
   "source": [
    "data['is_correct'] = 0"
   ]
  },
  {
   "cell_type": "code",
   "execution_count": 42,
   "metadata": {},
   "outputs": [
    {
     "data": {
      "text/html": [
       "<div>\n",
       "<style scoped>\n",
       "    .dataframe tbody tr th:only-of-type {\n",
       "        vertical-align: middle;\n",
       "    }\n",
       "\n",
       "    .dataframe tbody tr th {\n",
       "        vertical-align: top;\n",
       "    }\n",
       "\n",
       "    .dataframe thead th {\n",
       "        text-align: right;\n",
       "    }\n",
       "</style>\n",
       "<table border=\"1\" class=\"dataframe\">\n",
       "  <thead>\n",
       "    <tr style=\"text-align: right;\">\n",
       "      <th></th>\n",
       "      <th>Slide ID</th>\n",
       "      <th>Options</th>\n",
       "      <th>Correct ID</th>\n",
       "      <th>is_correct</th>\n",
       "    </tr>\n",
       "  </thead>\n",
       "  <tbody>\n",
       "    <tr>\n",
       "      <th>0</th>\n",
       "      <td>HIND4700548</td>\n",
       "      <td>How much are those shoes in the window over th...</td>\n",
       "      <td>1.0</td>\n",
       "      <td>1</td>\n",
       "    </tr>\n",
       "    <tr>\n",
       "      <th>1</th>\n",
       "      <td>HIND4700548</td>\n",
       "      <td>How much are these shoes in the window over th...</td>\n",
       "      <td>1.0</td>\n",
       "      <td>0</td>\n",
       "    </tr>\n",
       "    <tr>\n",
       "      <th>2</th>\n",
       "      <td>HIND4700548</td>\n",
       "      <td>How much are that shoes in the window over there?</td>\n",
       "      <td>1.0</td>\n",
       "      <td>0</td>\n",
       "    </tr>\n",
       "    <tr>\n",
       "      <th>3</th>\n",
       "      <td>HIND4700548</td>\n",
       "      <td>How much are this shoes in the window over there?</td>\n",
       "      <td>1.0</td>\n",
       "      <td>0</td>\n",
       "    </tr>\n",
       "    <tr>\n",
       "      <th>4</th>\n",
       "      <td>HIND4060599</td>\n",
       "      <td>My brown skirt fit me well.</td>\n",
       "      <td>2.0</td>\n",
       "      <td>0</td>\n",
       "    </tr>\n",
       "    <tr>\n",
       "      <th>5</th>\n",
       "      <td>HIND4060599</td>\n",
       "      <td>My brown skirt fits me well.</td>\n",
       "      <td>2.0</td>\n",
       "      <td>1</td>\n",
       "    </tr>\n",
       "    <tr>\n",
       "      <th>6</th>\n",
       "      <td>HIND4060599</td>\n",
       "      <td>My brown skirt is fit me well.</td>\n",
       "      <td>2.0</td>\n",
       "      <td>0</td>\n",
       "    </tr>\n",
       "    <tr>\n",
       "      <th>7</th>\n",
       "      <td>HIND4060599</td>\n",
       "      <td>My brown skirt is fits me well.</td>\n",
       "      <td>2.0</td>\n",
       "      <td>0</td>\n",
       "    </tr>\n",
       "    <tr>\n",
       "      <th>8</th>\n",
       "      <td>HIND6462367</td>\n",
       "      <td>Mohan is go to be three in June.</td>\n",
       "      <td>2.0</td>\n",
       "      <td>0</td>\n",
       "    </tr>\n",
       "    <tr>\n",
       "      <th>9</th>\n",
       "      <td>HIND6462367</td>\n",
       "      <td>Mohan is going to be three in June.</td>\n",
       "      <td>2.0</td>\n",
       "      <td>1</td>\n",
       "    </tr>\n",
       "    <tr>\n",
       "      <th>10</th>\n",
       "      <td>HIND6462367</td>\n",
       "      <td>Mohan is will be three in June.</td>\n",
       "      <td>2.0</td>\n",
       "      <td>0</td>\n",
       "    </tr>\n",
       "    <tr>\n",
       "      <th>11</th>\n",
       "      <td>HIND6462367</td>\n",
       "      <td>Mohan is going to three in June.</td>\n",
       "      <td>2.0</td>\n",
       "      <td>0</td>\n",
       "    </tr>\n",
       "    <tr>\n",
       "      <th>12</th>\n",
       "      <td>HIND7137001</td>\n",
       "      <td>I prefer relaxed on weekends.</td>\n",
       "      <td>3.0</td>\n",
       "      <td>0</td>\n",
       "    </tr>\n",
       "    <tr>\n",
       "      <th>13</th>\n",
       "      <td>HIND7137001</td>\n",
       "      <td>I prefer relax on weekends.</td>\n",
       "      <td>3.0</td>\n",
       "      <td>0</td>\n",
       "    </tr>\n",
       "    <tr>\n",
       "      <th>14</th>\n",
       "      <td>HIND7137001</td>\n",
       "      <td>I prefer relaxing on weekends.</td>\n",
       "      <td>3.0</td>\n",
       "      <td>1</td>\n",
       "    </tr>\n",
       "    <tr>\n",
       "      <th>15</th>\n",
       "      <td>HIND7137001</td>\n",
       "      <td>I prefer to relaxed on weekends.</td>\n",
       "      <td>3.0</td>\n",
       "      <td>0</td>\n",
       "    </tr>\n",
       "  </tbody>\n",
       "</table>\n",
       "</div>"
      ],
      "text/plain": [
       "       Slide ID                                            Options  \\\n",
       "0   HIND4700548  How much are those shoes in the window over th...   \n",
       "1   HIND4700548  How much are these shoes in the window over th...   \n",
       "2   HIND4700548  How much are that shoes in the window over there?   \n",
       "3   HIND4700548  How much are this shoes in the window over there?   \n",
       "4   HIND4060599                        My brown skirt fit me well.   \n",
       "5   HIND4060599                       My brown skirt fits me well.   \n",
       "6   HIND4060599                     My brown skirt is fit me well.   \n",
       "7   HIND4060599                    My brown skirt is fits me well.   \n",
       "8   HIND6462367                   Mohan is go to be three in June.   \n",
       "9   HIND6462367                Mohan is going to be three in June.   \n",
       "10  HIND6462367                    Mohan is will be three in June.   \n",
       "11  HIND6462367                   Mohan is going to three in June.   \n",
       "12  HIND7137001                      I prefer relaxed on weekends.   \n",
       "13  HIND7137001                        I prefer relax on weekends.   \n",
       "14  HIND7137001                     I prefer relaxing on weekends.   \n",
       "15  HIND7137001                   I prefer to relaxed on weekends.   \n",
       "\n",
       "    Correct ID  is_correct  \n",
       "0          1.0           1  \n",
       "1          1.0           0  \n",
       "2          1.0           0  \n",
       "3          1.0           0  \n",
       "4          2.0           0  \n",
       "5          2.0           1  \n",
       "6          2.0           0  \n",
       "7          2.0           0  \n",
       "8          2.0           0  \n",
       "9          2.0           1  \n",
       "10         2.0           0  \n",
       "11         2.0           0  \n",
       "12         3.0           0  \n",
       "13         3.0           0  \n",
       "14         3.0           1  \n",
       "15         3.0           0  "
      ]
     },
     "execution_count": 42,
     "metadata": {},
     "output_type": "execute_result"
    }
   ],
   "source": [
    "data.head(16)"
   ]
  },
  {
   "cell_type": "code",
   "execution_count": 35,
   "metadata": {},
   "outputs": [
    {
     "data": {
      "text/html": [
       "<div>\n",
       "<style scoped>\n",
       "    .dataframe tbody tr th:only-of-type {\n",
       "        vertical-align: middle;\n",
       "    }\n",
       "\n",
       "    .dataframe tbody tr th {\n",
       "        vertical-align: top;\n",
       "    }\n",
       "\n",
       "    .dataframe thead th {\n",
       "        text-align: right;\n",
       "    }\n",
       "</style>\n",
       "<table border=\"1\" class=\"dataframe\">\n",
       "  <thead>\n",
       "    <tr style=\"text-align: right;\">\n",
       "      <th></th>\n",
       "      <th>Slide ID</th>\n",
       "      <th>Options</th>\n",
       "      <th>Correct ID</th>\n",
       "      <th>is_correct</th>\n",
       "    </tr>\n",
       "  </thead>\n",
       "  <tbody>\n",
       "  </tbody>\n",
       "</table>\n",
       "</div>"
      ],
      "text/plain": [
       "Empty DataFrame\n",
       "Columns: [Slide ID, Options, Correct ID, is_correct]\n",
       "Index: []"
      ]
     },
     "execution_count": 35,
     "metadata": {},
     "output_type": "execute_result"
    }
   ],
   "source": [
    "data[data['Correct ID'].isna()]"
   ]
  },
  {
   "cell_type": "code",
   "execution_count": 23,
   "metadata": {},
   "outputs": [
    {
     "data": {
      "text/plain": [
       "(21980, 4)"
      ]
     },
     "execution_count": 23,
     "metadata": {},
     "output_type": "execute_result"
    }
   ],
   "source": [
    "data.shape"
   ]
  },
  {
   "cell_type": "code",
   "execution_count": 38,
   "metadata": {},
   "outputs": [
    {
     "name": "stderr",
     "output_type": "stream",
     "text": [
      "/home/ashutosh/anaconda3/lib/python3.6/site-packages/pandas/core/indexing.py:189: SettingWithCopyWarning: \n",
      "A value is trying to be set on a copy of a slice from a DataFrame\n",
      "\n",
      "See the caveats in the documentation: http://pandas.pydata.org/pandas-docs/stable/indexing.html#indexing-view-versus-copy\n",
      "  self._setitem_with_indexer(indexer, value)\n"
     ]
    }
   ],
   "source": [
    "for i in range(0, data.shape[0],4):\n",
    "    correct_id = int(data.iloc[i]['Correct ID']) - 1\n",
    "    data['is_correct'].iloc[i + correct_id] = 1"
   ]
  },
  {
   "cell_type": "code",
   "execution_count": 44,
   "metadata": {},
   "outputs": [],
   "source": [
    "data.drop(['Correct ID'], axis = 1, inplace= True)"
   ]
  },
  {
   "cell_type": "code",
   "execution_count": 45,
   "metadata": {},
   "outputs": [
    {
     "data": {
      "text/html": [
       "<div>\n",
       "<style scoped>\n",
       "    .dataframe tbody tr th:only-of-type {\n",
       "        vertical-align: middle;\n",
       "    }\n",
       "\n",
       "    .dataframe tbody tr th {\n",
       "        vertical-align: top;\n",
       "    }\n",
       "\n",
       "    .dataframe thead th {\n",
       "        text-align: right;\n",
       "    }\n",
       "</style>\n",
       "<table border=\"1\" class=\"dataframe\">\n",
       "  <thead>\n",
       "    <tr style=\"text-align: right;\">\n",
       "      <th></th>\n",
       "      <th>Slide ID</th>\n",
       "      <th>Options</th>\n",
       "      <th>is_correct</th>\n",
       "    </tr>\n",
       "  </thead>\n",
       "  <tbody>\n",
       "    <tr>\n",
       "      <th>0</th>\n",
       "      <td>HIND4700548</td>\n",
       "      <td>How much are those shoes in the window over th...</td>\n",
       "      <td>1</td>\n",
       "    </tr>\n",
       "    <tr>\n",
       "      <th>1</th>\n",
       "      <td>HIND4700548</td>\n",
       "      <td>How much are these shoes in the window over th...</td>\n",
       "      <td>0</td>\n",
       "    </tr>\n",
       "    <tr>\n",
       "      <th>2</th>\n",
       "      <td>HIND4700548</td>\n",
       "      <td>How much are that shoes in the window over there?</td>\n",
       "      <td>0</td>\n",
       "    </tr>\n",
       "    <tr>\n",
       "      <th>3</th>\n",
       "      <td>HIND4700548</td>\n",
       "      <td>How much are this shoes in the window over there?</td>\n",
       "      <td>0</td>\n",
       "    </tr>\n",
       "    <tr>\n",
       "      <th>4</th>\n",
       "      <td>HIND4060599</td>\n",
       "      <td>My brown skirt fit me well.</td>\n",
       "      <td>0</td>\n",
       "    </tr>\n",
       "  </tbody>\n",
       "</table>\n",
       "</div>"
      ],
      "text/plain": [
       "      Slide ID                                            Options  is_correct\n",
       "0  HIND4700548  How much are those shoes in the window over th...           1\n",
       "1  HIND4700548  How much are these shoes in the window over th...           0\n",
       "2  HIND4700548  How much are that shoes in the window over there?           0\n",
       "3  HIND4700548  How much are this shoes in the window over there?           0\n",
       "4  HIND4060599                        My brown skirt fit me well.           0"
      ]
     },
     "execution_count": 45,
     "metadata": {},
     "output_type": "execute_result"
    }
   ],
   "source": [
    "data.head()"
   ]
  },
  {
   "cell_type": "code",
   "execution_count": 46,
   "metadata": {},
   "outputs": [],
   "source": [
    "data.to_excel('entire_data_with_iscorrect.xlsx')"
   ]
  },
  {
   "cell_type": "code",
   "execution_count": 4,
   "metadata": {},
   "outputs": [],
   "source": [
    "data.to_excel('questions_rest.xlsx', header= False)"
   ]
  },
  {
   "cell_type": "code",
   "execution_count": 31,
   "metadata": {},
   "outputs": [],
   "source": [
    "buffer = data[data['Grammarly'] == 'missing']['Unnamed: 1']"
   ]
  },
  {
   "cell_type": "code",
   "execution_count": 32,
   "metadata": {},
   "outputs": [
    {
     "data": {
      "text/plain": [
       "pandas.core.series.Series"
      ]
     },
     "execution_count": 32,
     "metadata": {},
     "output_type": "execute_result"
    }
   ],
   "source": [
    "type(buffer)"
   ]
  },
  {
   "cell_type": "code",
   "execution_count": 33,
   "metadata": {},
   "outputs": [],
   "source": [
    "buffer.to_csv('buffer.csv')"
   ]
  },
  {
   "cell_type": "code",
   "execution_count": 35,
   "metadata": {},
   "outputs": [
    {
     "data": {
      "text/html": [
       "<div>\n",
       "<style scoped>\n",
       "    .dataframe tbody tr th:only-of-type {\n",
       "        vertical-align: middle;\n",
       "    }\n",
       "\n",
       "    .dataframe tbody tr th {\n",
       "        vertical-align: top;\n",
       "    }\n",
       "\n",
       "    .dataframe thead th {\n",
       "        text-align: right;\n",
       "    }\n",
       "</style>\n",
       "<table border=\"1\" class=\"dataframe\">\n",
       "  <thead>\n",
       "    <tr style=\"text-align: right;\">\n",
       "      <th></th>\n",
       "      <th>Sno</th>\n",
       "      <th>Data</th>\n",
       "    </tr>\n",
       "  </thead>\n",
       "  <tbody>\n",
       "    <tr>\n",
       "      <th>0</th>\n",
       "      <td>21</td>\n",
       "      <td>Rachel and I works at a school.</td>\n",
       "    </tr>\n",
       "    <tr>\n",
       "      <th>1</th>\n",
       "      <td>75</td>\n",
       "      <td>8764031748 aren't my number.</td>\n",
       "    </tr>\n",
       "    <tr>\n",
       "      <th>2</th>\n",
       "      <td>76</td>\n",
       "      <td>8764031748 doesn't my number.</td>\n",
       "    </tr>\n",
       "    <tr>\n",
       "      <th>3</th>\n",
       "      <td>77</td>\n",
       "      <td>8764031748 is don't my number.</td>\n",
       "    </tr>\n",
       "    <tr>\n",
       "      <th>4</th>\n",
       "      <td>78</td>\n",
       "      <td>8764031748 isn't my number.</td>\n",
       "    </tr>\n",
       "  </tbody>\n",
       "</table>\n",
       "</div>"
      ],
      "text/plain": [
       "   Sno                             Data\n",
       "0   21  Rachel and I works at a school.\n",
       "1   75     8764031748 aren't my number.\n",
       "2   76    8764031748 doesn't my number.\n",
       "3   77   8764031748 is don't my number.\n",
       "4   78      8764031748 isn't my number."
      ]
     },
     "execution_count": 35,
     "metadata": {},
     "output_type": "execute_result"
    }
   ],
   "source": [
    "data1 = pd.read_csv('buffer.csv')\n",
    "data1.head(5)"
   ]
  },
  {
   "cell_type": "code",
   "execution_count": 36,
   "metadata": {},
   "outputs": [
    {
     "data": {
      "text/plain": [
       "0    Rachel and I works at a school.\n",
       "1       8764031748 aren't my number.\n",
       "2      8764031748 doesn't my number.\n",
       "3     8764031748 is don't my number.\n",
       "4        8764031748 isn't my number.\n",
       "Name: Data, dtype: object"
      ]
     },
     "execution_count": 36,
     "metadata": {},
     "output_type": "execute_result"
    }
   ],
   "source": [
    "data1 = data1['Data']\n",
    "data1.head(5)"
   ]
  },
  {
   "cell_type": "code",
   "execution_count": 38,
   "metadata": {},
   "outputs": [],
   "source": [
    "data1.to_excel('buffer.xlsx')"
   ]
  },
  {
   "cell_type": "code",
   "execution_count": 2,
   "metadata": {},
   "outputs": [
    {
     "data": {
      "text/html": [
       "<div>\n",
       "<style scoped>\n",
       "    .dataframe tbody tr th:only-of-type {\n",
       "        vertical-align: middle;\n",
       "    }\n",
       "\n",
       "    .dataframe tbody tr th {\n",
       "        vertical-align: top;\n",
       "    }\n",
       "\n",
       "    .dataframe thead th {\n",
       "        text-align: right;\n",
       "    }\n",
       "</style>\n",
       "<table border=\"1\" class=\"dataframe\">\n",
       "  <thead>\n",
       "    <tr style=\"text-align: right;\">\n",
       "      <th></th>\n",
       "      <th>RECORD_ID</th>\n",
       "      <th>USER_ID</th>\n",
       "      <th>SLIDE_ID</th>\n",
       "      <th>ATTEMPT_NUMBER</th>\n",
       "      <th>IS_CORRECT</th>\n",
       "      <th>USER_RESPONSE</th>\n",
       "      <th>CREATED_AT</th>\n",
       "    </tr>\n",
       "  </thead>\n",
       "  <tbody>\n",
       "    <tr>\n",
       "      <th>0</th>\n",
       "      <td>107674045</td>\n",
       "      <td>kumar.ganesh199104@gmail.com</td>\n",
       "      <td>HIND2804673</td>\n",
       "      <td>1</td>\n",
       "      <td>1</td>\n",
       "      <td>My name is Pooja.</td>\n",
       "      <td>2018-06-01 00:00:01</td>\n",
       "    </tr>\n",
       "    <tr>\n",
       "      <th>1</th>\n",
       "      <td>108068364</td>\n",
       "      <td>sonamshrivastv6@gmail.com</td>\n",
       "      <td>HIND2839239</td>\n",
       "      <td>2</td>\n",
       "      <td>1</td>\n",
       "      <td>Hello! I am Pooja.</td>\n",
       "      <td>2018-06-01 00:00:01</td>\n",
       "    </tr>\n",
       "    <tr>\n",
       "      <th>2</th>\n",
       "      <td>107517978</td>\n",
       "      <td>sunitalal9634@gmail.com</td>\n",
       "      <td>HIND2893090</td>\n",
       "      <td>1</td>\n",
       "      <td>0</td>\n",
       "      <td>is</td>\n",
       "      <td>2018-06-01 00:00:01</td>\n",
       "    </tr>\n",
       "    <tr>\n",
       "      <th>3</th>\n",
       "      <td>107419929</td>\n",
       "      <td>harichandrathakur@gmail.com</td>\n",
       "      <td>HIND2958525</td>\n",
       "      <td>1</td>\n",
       "      <td>0</td>\n",
       "      <td>I amn't from India, I amn't Indian.</td>\n",
       "      <td>2018-06-01 00:00:01</td>\n",
       "    </tr>\n",
       "    <tr>\n",
       "      <th>4</th>\n",
       "      <td>108713359</td>\n",
       "      <td>archus103@gmail.com</td>\n",
       "      <td>HIND3307669</td>\n",
       "      <td>2</td>\n",
       "      <td>1</td>\n",
       "      <td>eight</td>\n",
       "      <td>2018-06-01 00:00:01</td>\n",
       "    </tr>\n",
       "  </tbody>\n",
       "</table>\n",
       "</div>"
      ],
      "text/plain": [
       "   RECORD_ID                       USER_ID     SLIDE_ID  ATTEMPT_NUMBER  \\\n",
       "0  107674045  kumar.ganesh199104@gmail.com  HIND2804673               1   \n",
       "1  108068364     sonamshrivastv6@gmail.com  HIND2839239               2   \n",
       "2  107517978       sunitalal9634@gmail.com  HIND2893090               1   \n",
       "3  107419929   harichandrathakur@gmail.com  HIND2958525               1   \n",
       "4  108713359           archus103@gmail.com  HIND3307669               2   \n",
       "\n",
       "   IS_CORRECT                        USER_RESPONSE           CREATED_AT  \n",
       "0           1                    My name is Pooja.  2018-06-01 00:00:01  \n",
       "1           1                   Hello! I am Pooja.  2018-06-01 00:00:01  \n",
       "2           0                                   is  2018-06-01 00:00:01  \n",
       "3           0  I amn't from India, I amn't Indian.  2018-06-01 00:00:01  \n",
       "4           1                                eight  2018-06-01 00:00:01  "
      ]
     },
     "execution_count": 2,
     "metadata": {},
     "output_type": "execute_result"
    }
   ],
   "source": [
    "data = pd.read_csv('lessonDiffDump.csv')\n",
    "data.head()"
   ]
  },
  {
   "cell_type": "code",
   "execution_count": 4,
   "metadata": {},
   "outputs": [
    {
     "data": {
      "text/plain": [
       "RECORD_ID         50000\n",
       "USER_ID           50000\n",
       "SLIDE_ID          50000\n",
       "ATTEMPT_NUMBER    50000\n",
       "IS_CORRECT        50000\n",
       "USER_RESPONSE     50000\n",
       "CREATED_AT        50000\n",
       "dtype: int64"
      ]
     },
     "execution_count": 4,
     "metadata": {},
     "output_type": "execute_result"
    }
   ],
   "source": [
    "data.isnull().count()"
   ]
  },
  {
   "cell_type": "code",
   "execution_count": null,
   "metadata": {},
   "outputs": [],
   "source": []
  }
 ],
 "metadata": {
  "kernelspec": {
   "display_name": "Python 3",
   "language": "python",
   "name": "python3"
  },
  "language_info": {
   "codemirror_mode": {
    "name": "ipython",
    "version": 3
   },
   "file_extension": ".py",
   "mimetype": "text/x-python",
   "name": "python",
   "nbconvert_exporter": "python",
   "pygments_lexer": "ipython3",
   "version": "3.6.5"
  }
 },
 "nbformat": 4,
 "nbformat_minor": 2
}
